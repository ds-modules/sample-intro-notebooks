version https://git-lfs.github.com/spec/v1
oid sha256:c242f191ff1fdf54ff2c9d4d09494afed8af1932012d31d6cf82f94660a142e9
size 39314781
